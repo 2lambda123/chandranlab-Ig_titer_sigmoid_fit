{
 "cells": [
  {
   "cell_type": "code",
   "execution_count": 1,
   "metadata": {},
   "outputs": [],
   "source": [
    "import pandas as pd\n",
    "import numpy as np\n",
    "from scipy.optimize import curve_fit\n",
    "from sklearn.model_selection import KFold\n",
    "import os.path\n",
    "import shutil\n",
    "from sklearn.metrics import r2_score\n",
    "from sklearn.metrics import mean_squared_error\n",
    "import matplotlib.pyplot as plt\n",
    "import seaborn as sns"
   ]
  },
  {
   "cell_type": "markdown",
   "metadata": {},
   "source": [
    "### Input variables "
   ]
  },
  {
   "cell_type": "code",
   "execution_count": 2,
   "metadata": {},
   "outputs": [],
   "source": [
    "inputfile = 'Elisa dataset.xlsx'\n",
    "# Evaluation params\n",
    "val_rounds = 100\n",
    "xFold = 10"
   ]
  },
  {
   "cell_type": "markdown",
   "metadata": {},
   "source": [
    "### Defining functions"
   ]
  },
  {
   "cell_type": "markdown",
   "metadata": {},
   "source": [
    "Functions used to fit a sigmoidal curve to the dataset and to extrapolate x (titer) for a given y (absorbance)"
   ]
  },
  {
   "cell_type": "code",
   "execution_count": 3,
   "metadata": {},
   "outputs": [],
   "source": [
    "# Sigmoidal function\n",
    "def sigmoid_log_concentration(x, ymin, ymax, ec50, hill):\n",
    "    y = ymin + (ymax - ymin) / (1 + 10 ** ((np.log10(np.abs(ec50)) - x) * hill))\n",
    "    return y\n",
    "\n",
    "# Log function\n",
    "def log_function(x, a, b):\n",
    "    y = a + b * np.log10(x)\n",
    "    return y\n",
    "\n",
    "# Infer x for a given y\n",
    "def resolve_x(y, ymin, ymax, ec50, hill):\n",
    "    x = np.log10(np.abs(ec50)) -  np.log10(np.abs((ymax - ymin)/(y - ymin) - 1))/hill  \n",
    "    return x\n",
    "\n",
    "def fit_function_to_data(function, titer_train, abs_train):\n",
    "#     popt, pcov = fit_function_to_data(sigmoid_log_concentration, titer_train, abs_train)\n",
    "    popt, pcov = curve_fit(sigmoid_log_concentration, titer_train, abs_train, maxfev=100000)\n",
    "    return(popt)"
   ]
  },
  {
   "cell_type": "markdown",
   "metadata": {},
   "source": [
    "Functions for cross-validation"
   ]
  },
  {
   "cell_type": "code",
   "execution_count": 4,
   "metadata": {},
   "outputs": [],
   "source": [
    "def Define_sets(patient_ar, titer_ar, abs_ar, train_index, test_index):\n",
    "    patient_train, patient_test = [], []\n",
    "    titer_train, titer_test = [], []\n",
    "    abs_train, abs_test = [], []\n",
    "    abs_model = []\n",
    "    for i in train_index:\n",
    "        patient_train.append(patient_ar[i])\n",
    "        titer_train.append(titer_ar[i])\n",
    "        abs_train.append(abs_ar[i])\n",
    "    for i in test_index:\n",
    "        patient_test.append(patient_ar[i])\n",
    "        titer_test.append(titer_ar[i])\n",
    "        abs_test.append(abs_ar[i])\n",
    "    return(patient_train, patient_test, titer_train, titer_test, abs_train, abs_test, abs_model)\n",
    "\n",
    "def Add_predicted_to_df(patient_test, abs_test, min_titer, max_titer, df, ymin, ymax, ec50, hill):\n",
    "    for i in range(0, len(patient_test)):\n",
    "        patient = patient_test[i]\n",
    "        abs_2_predict = abs_test[i]\n",
    "        pred_titer = resolve_x(abs_2_predict, ymin, ymax, ec50, hill)\n",
    "        if pred_titer < min_titer:\n",
    "            pred_titer = min_titer\n",
    "        if pred_titer > max_titer:\n",
    "            pred_titer = max_titer\n",
    "        df.loc[patient,('Pred_Log10_Titer')] = pred_titer\n",
    "    return(df)\n",
    "\n",
    "def extract_obs_pred(df):\n",
    "    df.dropna(axis=0, how='any', inplace=True)\n",
    "    x_obs = np.array(df.loc[:,])\n",
    "    x_obs = np.array(df.loc[:,'Log10_Titer'])\n",
    "    x_pred = np.array(df.loc[:,'Pred_Log10_Titer'])\n",
    "    return(x_obs, x_pred)\n",
    "\n",
    "def evaluate_prediction(obs, pred):\n",
    "    r2 = r2_score(obs, pred)\n",
    "    rmse = np.sqrt(mean_squared_error(obs, pred))\n",
    "    return(r2, rmse)"
   ]
  },
  {
   "cell_type": "markdown",
   "metadata": {},
   "source": [
    "### Load data "
   ]
  },
  {
   "cell_type": "markdown",
   "metadata": {},
   "source": [
    "Load the input excel file and transform it such that titers are log10. The processed input is saved as a separate excel spreadsheet"
   ]
  },
  {
   "cell_type": "code",
   "execution_count": 5,
   "metadata": {},
   "outputs": [],
   "source": [
    "df0 = pd.read_excel(inputfile, index_col=0, header=0)\n",
    "# Excluding samples that have a titer of 0\n",
    "df1 = df0[df0.Titer != 0].copy()\n",
    "\n",
    "for indx in df1.index:\n",
    "    logval = np.log10(df1.loc[indx, ('Titer')])\n",
    "    df1.at[indx, 'Log10_Titer'] = logval\n",
    "outputfile = inputfile.replace('.xlsx','_processed.xlsx')\n",
    "df1.to_excel(outputfile)"
   ]
  },
  {
   "cell_type": "markdown",
   "metadata": {},
   "source": [
    "### Extract info from input dataset"
   ]
  },
  {
   "cell_type": "markdown",
   "metadata": {},
   "source": [
    "Extracts the sample names, titers (log10), absorbances, the minimum observed titer and maximum observed titer"
   ]
  },
  {
   "cell_type": "code",
   "execution_count": 6,
   "metadata": {},
   "outputs": [
    {
     "name": "stdout",
     "output_type": "stream",
     "text": [
      "Number of patients: 229\n",
      "Number of titers: 229\n",
      "Minimum titer 1.954242509439325\n",
      "Maximum titer 5.771210340746464\n",
      "Number of Absorbances: 229\n"
     ]
    }
   ],
   "source": [
    "patient_ar=df1.index.tolist()\n",
    "titer_ar = np.array(df1.loc[:,'Log10_Titer'].values)\n",
    "abs_ar0 = np.array(df1.loc[:,'Absorbance'].values)\n",
    "min_titer = titer_ar.min()\n",
    "max_titer = titer_ar.max()\n",
    "print('Number of patients:', len(patient_ar))\n",
    "print('Number of titers:', len(titer_ar))\n",
    "print('Minimum titer', min_titer)\n",
    "print('Maximum titer', max_titer)\n",
    "print('Number of Absorbances:', len(abs_ar0))"
   ]
  },
  {
   "cell_type": "markdown",
   "metadata": {},
   "source": [
    "### Fit sigmoid model to data "
   ]
  },
  {
   "cell_type": "markdown",
   "metadata": {},
   "source": [
    "Fits a sigmoidal to the entire dataset and saves the model info in a separate file that is to be used by 'titer_extrapol.ipynb' to predict titers for a given absorbance"
   ]
  },
  {
   "cell_type": "code",
   "execution_count": 7,
   "metadata": {},
   "outputs": [],
   "source": [
    "opt_all = fit_function_to_data(sigmoid_log_concentration, titer_ar, abs_ar0)\n",
    "model_file = inputfile.replace('.xlsx', '_model.txt')\n",
    "f = open(model_file, 'w')\n",
    "print('model_ymin', opt_all[0], sep='\\t', file=f)\n",
    "print('model_ymax', opt_all[1], sep='\\t', file=f)\n",
    "print('model_ec50', opt_all[2], sep='\\t', file=f)\n",
    "print('model_hill', opt_all[3], sep='\\t', file=f)\n",
    "print('obs_titer_min', min_titer, sep='\\t', file=f)\n",
    "print('obs_titer_max', max_titer, sep='\\t', file=f)\n",
    "f.close()"
   ]
  },
  {
   "cell_type": "markdown",
   "metadata": {},
   "source": [
    "### Evaluating model fitting by X-fold cross-validation"
   ]
  },
  {
   "cell_type": "code",
   "execution_count": 8,
   "metadata": {},
   "outputs": [],
   "source": [
    "# Creating/Cleaning evaluation directory\n",
    "outdir = 'eval_' + str(val_rounds) + 'iter_' + str(xFold) + 'fold'\n",
    "if os.path.isdir(outdir):\n",
    "    shutil.rmtree(outdir)\n",
    "os.mkdir(outdir)"
   ]
  },
  {
   "cell_type": "code",
   "execution_count": 9,
   "metadata": {},
   "outputs": [],
   "source": [
    "%%capture\n",
    "# Running X-val iteratively\n",
    "df_eval = pd.DataFrame(columns = ['Iteration','R2','RMSE'])\n",
    "eval_mode = str(xFold) + '-fold'\n",
    "abs_ar = abs_ar0.copy()\n",
    "for i in range(0,val_rounds):\n",
    "    plt.figure(figsize=(10,10))\n",
    "    if i%5 == 0:\n",
    "        print('Round\\t{}'.format(i))\n",
    "    df2 = df1.copy()\n",
    "    kf = KFold(n_splits=xFold, shuffle=True)\n",
    "    x_fold = 0\n",
    "\n",
    "    for train_index, test_index in kf.split(patient_ar):\n",
    "        patient_train, patient_test, titer_train, titer_test, abs_train, abs_test, abs_model = Define_sets(patient_ar, titer_ar, abs_ar, train_index, test_index)\n",
    "        min_titer_local = np.min(titer_train)\n",
    "        max_titer_local = np.max(titer_train)\n",
    "        popt = fit_function_to_data(sigmoid_log_concentration, titer_train, abs_train)\n",
    "        df2 = Add_predicted_to_df(patient_test, abs_test, min_titer_local, max_titer_local, df2,*popt)\n",
    "    x_obs, x_pred = extract_obs_pred(df2)\n",
    "    r2, rmse = evaluate_prediction(x_obs, x_pred)\n",
    "    dftemp = pd.DataFrame({'Iteration':[i],'R2':[r2],'RMSE':[rmse]})\n",
    "    df_eval = df_eval.append(dftemp, ignore_index=True)\n",
    "    df2.to_excel(outdir + '/' + 'iter_' + str(i) + '_' + eval_mode + '_predictions.xlsx')\n",
    "    g=sns.lmplot(x='Log10_Titer', y=\"Pred_Log10_Titer\", data=df2, height=8, x_jitter=.0, ci=95, scatter_kws={\"s\": 100})\n",
    "    plt.suptitle('Observed Vs Predicted: Iteration ' + str(i) + ' (' + eval_mode + ')', fontsize=15)\n",
    "    plt.xlabel('Observed Log10 Ab titers', fontsize=15)\n",
    "    plt.ylabel('Predicted Log10 Ab titers', fontsize=15)\n",
    "    plt.text(5, 4, 'R^2: {:.2f}'.format(r2), fontsize=10)\n",
    "    plt.savefig(outdir + '/' + 'iter_' + str(i) + '_' + eval_mode + '_Observed_Vs_Predicted.pdf',dpi=300)\n",
    "df_eval.to_excel(outdir + '/' + 'summary.xlsx')\n",
    "print('Finito')"
   ]
  },
  {
   "cell_type": "code",
   "execution_count": 10,
   "metadata": {},
   "outputs": [
    {
     "data": {
      "text/html": [
       "<div>\n",
       "<style scoped>\n",
       "    .dataframe tbody tr th:only-of-type {\n",
       "        vertical-align: middle;\n",
       "    }\n",
       "\n",
       "    .dataframe tbody tr th {\n",
       "        vertical-align: top;\n",
       "    }\n",
       "\n",
       "    .dataframe thead th {\n",
       "        text-align: right;\n",
       "    }\n",
       "</style>\n",
       "<table border=\"1\" class=\"dataframe\">\n",
       "  <thead>\n",
       "    <tr style=\"text-align: right;\">\n",
       "      <th></th>\n",
       "      <th>Iteration</th>\n",
       "      <th>R2</th>\n",
       "      <th>RMSE</th>\n",
       "    </tr>\n",
       "  </thead>\n",
       "  <tbody>\n",
       "    <tr>\n",
       "      <th>0</th>\n",
       "      <td>0</td>\n",
       "      <td>0.823421</td>\n",
       "      <td>0.307227</td>\n",
       "    </tr>\n",
       "    <tr>\n",
       "      <th>1</th>\n",
       "      <td>1</td>\n",
       "      <td>0.821323</td>\n",
       "      <td>0.309047</td>\n",
       "    </tr>\n",
       "    <tr>\n",
       "      <th>2</th>\n",
       "      <td>2</td>\n",
       "      <td>0.823302</td>\n",
       "      <td>0.307331</td>\n",
       "    </tr>\n",
       "    <tr>\n",
       "      <th>3</th>\n",
       "      <td>3</td>\n",
       "      <td>0.824385</td>\n",
       "      <td>0.306387</td>\n",
       "    </tr>\n",
       "    <tr>\n",
       "      <th>4</th>\n",
       "      <td>4</td>\n",
       "      <td>0.827542</td>\n",
       "      <td>0.303621</td>\n",
       "    </tr>\n",
       "    <tr>\n",
       "      <th>...</th>\n",
       "      <td>...</td>\n",
       "      <td>...</td>\n",
       "      <td>...</td>\n",
       "    </tr>\n",
       "    <tr>\n",
       "      <th>95</th>\n",
       "      <td>95</td>\n",
       "      <td>0.824949</td>\n",
       "      <td>0.305895</td>\n",
       "    </tr>\n",
       "    <tr>\n",
       "      <th>96</th>\n",
       "      <td>96</td>\n",
       "      <td>0.817805</td>\n",
       "      <td>0.312074</td>\n",
       "    </tr>\n",
       "    <tr>\n",
       "      <th>97</th>\n",
       "      <td>97</td>\n",
       "      <td>0.827142</td>\n",
       "      <td>0.303972</td>\n",
       "    </tr>\n",
       "    <tr>\n",
       "      <th>98</th>\n",
       "      <td>98</td>\n",
       "      <td>0.821035</td>\n",
       "      <td>0.309295</td>\n",
       "    </tr>\n",
       "    <tr>\n",
       "      <th>99</th>\n",
       "      <td>99</td>\n",
       "      <td>0.815789</td>\n",
       "      <td>0.313796</td>\n",
       "    </tr>\n",
       "  </tbody>\n",
       "</table>\n",
       "<p>100 rows × 3 columns</p>\n",
       "</div>"
      ],
      "text/plain": [
       "   Iteration        R2      RMSE\n",
       "0          0  0.823421  0.307227\n",
       "1          1  0.821323  0.309047\n",
       "2          2  0.823302  0.307331\n",
       "3          3  0.824385  0.306387\n",
       "4          4  0.827542  0.303621\n",
       "..       ...       ...       ...\n",
       "95        95  0.824949  0.305895\n",
       "96        96  0.817805  0.312074\n",
       "97        97  0.827142  0.303972\n",
       "98        98  0.821035  0.309295\n",
       "99        99  0.815789  0.313796\n",
       "\n",
       "[100 rows x 3 columns]"
      ]
     },
     "execution_count": 10,
     "metadata": {},
     "output_type": "execute_result"
    }
   ],
   "source": [
    "df_eval"
   ]
  },
  {
   "cell_type": "code",
   "execution_count": null,
   "metadata": {},
   "outputs": [],
   "source": []
  }
 ],
 "metadata": {
  "kernelspec": {
   "display_name": "Python 3",
   "language": "python",
   "name": "python3"
  },
  "language_info": {
   "codemirror_mode": {
    "name": "ipython",
    "version": 3
   },
   "file_extension": ".py",
   "mimetype": "text/x-python",
   "name": "python",
   "nbconvert_exporter": "python",
   "pygments_lexer": "ipython3",
   "version": "3.7.6"
  }
 },
 "nbformat": 4,
 "nbformat_minor": 4
}
