{
 "cells": [
  {
   "cell_type": "code",
   "execution_count": 1,
   "metadata": {},
   "outputs": [],
   "source": [
    "import pandas as pd\n",
    "import numpy as np\n",
    "from scipy.optimize import curve_fit\n",
    "from sklearn.model_selection import KFold\n",
    "import os.path\n",
    "import shutil\n",
    "from sklearn.metrics import r2_score\n",
    "from sklearn.metrics import mean_squared_error\n",
    "import matplotlib.pyplot as plt\n",
    "import seaborn as sns"
   ]
  },
  {
   "cell_type": "markdown",
   "metadata": {},
   "source": [
    "### Input variables "
   ]
  },
  {
   "cell_type": "markdown",
   "metadata": {},
   "source": [
    "User-defined variables to be tuned"
   ]
  },
  {
   "cell_type": "code",
   "execution_count": 2,
   "metadata": {},
   "outputs": [],
   "source": [
    "# File containing titers and absorbances\n",
    "inputfile = 'Elisa dataset.xlsx'\n",
    "# Output directory where to save the fitted model and the evaluation\n",
    "outdir = 'Model_fit_eval'\n",
    "# Evaluation param: X-fold cross-validation\n",
    "xFold = 10\n",
    "# Evaluation para: number of iterations to perform X-fold cross-validation\n",
    "val_rounds = 100"
   ]
  },
  {
   "cell_type": "markdown",
   "metadata": {},
   "source": [
    "### Defining functions"
   ]
  },
  {
   "cell_type": "markdown",
   "metadata": {},
   "source": [
    "Functions used to fit a sigmoidal curve to the dataset and to extrapolate x (titer) for a given y (absorbance)"
   ]
  },
  {
   "cell_type": "code",
   "execution_count": 3,
   "metadata": {},
   "outputs": [],
   "source": [
    "# Sigmoidal function\n",
    "def sigmoid_log_concentration(x, ymin, ymax, ec50, hill):\n",
    "    y = ymin + (ymax - ymin) / (1 + 10 ** ((np.log10(np.abs(ec50)) - x) * hill))\n",
    "    return y\n",
    "\n",
    "# Log function\n",
    "def log_function(x, a, b):\n",
    "    y = a + b * np.log10(x)\n",
    "    return y\n",
    "\n",
    "# Infer x for a given y\n",
    "def resolve_x(y, ymin, ymax, ec50, hill):\n",
    "    x = np.log10(np.abs(ec50)) -  np.log10(np.abs((ymax - ymin)/(y - ymin) - 1))/hill  \n",
    "    return x\n",
    "\n",
    "def fit_function_to_data(function, titer_train, abs_train):\n",
    "#     popt, pcov = fit_function_to_data(sigmoid_log_concentration, titer_train, abs_train)\n",
    "    popt, pcov = curve_fit(sigmoid_log_concentration, titer_train, abs_train, maxfev=100000)\n",
    "    return(popt)"
   ]
  },
  {
   "cell_type": "markdown",
   "metadata": {},
   "source": [
    "Functions for cross-validation"
   ]
  },
  {
   "cell_type": "code",
   "execution_count": 4,
   "metadata": {},
   "outputs": [],
   "source": [
    "def Define_sets(patient_ar, titer_ar, abs_ar, train_index, test_index):\n",
    "    patient_train, patient_test = [], []\n",
    "    titer_train, titer_test = [], []\n",
    "    abs_train, abs_test = [], []\n",
    "    abs_model = []\n",
    "    for i in train_index:\n",
    "        patient_train.append(patient_ar[i])\n",
    "        titer_train.append(titer_ar[i])\n",
    "        abs_train.append(abs_ar[i])\n",
    "    for i in test_index:\n",
    "        patient_test.append(patient_ar[i])\n",
    "        titer_test.append(titer_ar[i])\n",
    "        abs_test.append(abs_ar[i])\n",
    "    return(patient_train, patient_test, titer_train, titer_test, abs_train, abs_test, abs_model)\n",
    "\n",
    "def Add_predicted_to_df(patient_test, abs_test, min_titer, max_titer, df, ymin, ymax, ec50, hill):\n",
    "    for i in range(0, len(patient_test)):\n",
    "        patient = patient_test[i]\n",
    "        abs_2_predict = abs_test[i]\n",
    "        pred_titer = resolve_x(abs_2_predict, ymin, ymax, ec50, hill)\n",
    "        if pred_titer < min_titer:\n",
    "            pred_titer = min_titer\n",
    "        if pred_titer > max_titer:\n",
    "            pred_titer = max_titer\n",
    "        df.loc[patient,('Pred_Log10_Titer')] = pred_titer\n",
    "    return(df)\n",
    "\n",
    "def extract_obs_pred(df):\n",
    "    df.dropna(axis=0, how='any', inplace=True)\n",
    "    x_obs = np.array(df.loc[:,])\n",
    "    x_obs = np.array(df.loc[:,'Log10_Titer'])\n",
    "    x_pred = np.array(df.loc[:,'Pred_Log10_Titer'])\n",
    "    return(x_obs, x_pred)\n",
    "\n",
    "def evaluate_prediction(obs, pred):\n",
    "    r2 = r2_score(obs, pred)\n",
    "    rmse = np.sqrt(mean_squared_error(obs, pred))\n",
    "    return(r2, rmse)"
   ]
  },
  {
   "cell_type": "markdown",
   "metadata": {},
   "source": [
    "### Create output directory "
   ]
  },
  {
   "cell_type": "code",
   "execution_count": 5,
   "metadata": {},
   "outputs": [],
   "source": [
    "if os.path.isdir(outdir):\n",
    "    shutil.rmtree(outdir)\n",
    "os.mkdir(outdir)"
   ]
  },
  {
   "cell_type": "markdown",
   "metadata": {},
   "source": [
    "### Load data "
   ]
  },
  {
   "cell_type": "markdown",
   "metadata": {},
   "source": [
    "Load the input excel file and transform it such that titers are log10. The processed input is saved as a separate excel spreadsheet"
   ]
  },
  {
   "cell_type": "code",
   "execution_count": 6,
   "metadata": {},
   "outputs": [],
   "source": [
    "df0 = pd.read_excel(inputfile, index_col=0, header=0)\n",
    "# Excluding samples that have a titer of 0\n",
    "df1 = df0[df0.Titer != 0].copy()\n",
    "\n",
    "for indx in df1.index:\n",
    "    logval = np.log10(df1.loc[indx, ('Titer')])\n",
    "    df1.at[indx, 'Log10_Titer'] = logval\n",
    "outputfile = inputfile.replace('.xlsx','_processed.xlsx')\n",
    "df1.to_excel(outdir + '/' + outputfile)"
   ]
  },
  {
   "cell_type": "markdown",
   "metadata": {},
   "source": [
    "### Extract info from input dataset"
   ]
  },
  {
   "cell_type": "markdown",
   "metadata": {},
   "source": [
    "Extracts the sample names, titers (log10), absorbances, the minimum observed titer and maximum observed titer"
   ]
  },
  {
   "cell_type": "code",
   "execution_count": 7,
   "metadata": {},
   "outputs": [
    {
     "name": "stdout",
     "output_type": "stream",
     "text": [
      "Number of patients: 229\n",
      "Number of titers: 229\n",
      "Minimum titer 1.954242509439325\n",
      "Maximum titer 5.771210340746464\n",
      "Number of Absorbances: 229\n"
     ]
    }
   ],
   "source": [
    "patient_ar=df1.index.tolist()\n",
    "titer_ar = np.array(df1.loc[:,'Log10_Titer'].values)\n",
    "abs_ar0 = np.array(df1.loc[:,'Absorbance'].values)\n",
    "min_titer = titer_ar.min()\n",
    "max_titer = titer_ar.max()\n",
    "print('Number of patients:', len(patient_ar))\n",
    "print('Number of titers:', len(titer_ar))\n",
    "print('Minimum titer', min_titer)\n",
    "print('Maximum titer', max_titer)\n",
    "print('Number of Absorbances:', len(abs_ar0))"
   ]
  },
  {
   "cell_type": "markdown",
   "metadata": {},
   "source": [
    "### Fit sigmoid model to data "
   ]
  },
  {
   "cell_type": "markdown",
   "metadata": {},
   "source": [
    "Fits a sigmoidal to the entire dataset and saves the model info in a separate file that is to be used by 'titer_extrapol.ipynb' to predict titers for a given absorbance"
   ]
  },
  {
   "cell_type": "code",
   "execution_count": 8,
   "metadata": {},
   "outputs": [],
   "source": [
    "opt_all = fit_function_to_data(sigmoid_log_concentration, titer_ar, abs_ar0)\n",
    "model_file = inputfile.replace('.xlsx', '_model.txt')\n",
    "f = open(outdir + '/' + model_file, 'w')\n",
    "print('model_ymin', opt_all[0], sep='\\t', file=f)\n",
    "print('model_ymax', opt_all[1], sep='\\t', file=f)\n",
    "print('model_ec50', opt_all[2], sep='\\t', file=f)\n",
    "print('model_hill', opt_all[3], sep='\\t', file=f)\n",
    "print('obs_titer_min', min_titer, sep='\\t', file=f)\n",
    "print('obs_titer_max', max_titer, sep='\\t', file=f)\n",
    "f.close()"
   ]
  },
  {
   "cell_type": "markdown",
   "metadata": {},
   "source": [
    "Plot experimental data and the fitted sigmoidal curve"
   ]
  },
  {
   "cell_type": "code",
   "execution_count": 9,
   "metadata": {},
   "outputs": [],
   "source": [
    "%%capture\n",
    "fig, ax = plt.subplots(figsize=(10,10))\n",
    "ax.plot(titer_ar, abs_ar0, marker='o', linewidth=0, markersize=12, alpha=0.4)\n",
    "t = np.linspace(np.min(titer_ar) - 1.5, np.max(titer_ar)+1.5, 200)\n",
    "y_model = sigmoid_log_concentration(t,*opt_all)\n",
    "ax.plot(t,y_model, color='black', linewidth=8, alpha=0.7)\n",
    "plt.xlabel('Log10 Ab titers', fontsize=20)\n",
    "plt.ylabel('Absorbance', fontsize=20)\n",
    "plt.suptitle('Sigmoidal fitting', fontsize=25)\n",
    "plt.savefig(outdir + '/fitted_sigmoidal.pdf', dpi=300)"
   ]
  },
  {
   "cell_type": "markdown",
   "metadata": {},
   "source": [
    "### Evaluating model fitting by X-fold cross-validation"
   ]
  },
  {
   "cell_type": "code",
   "execution_count": 10,
   "metadata": {},
   "outputs": [],
   "source": [
    "# Creating/Cleaning evaluation directory\n",
    "evaldir = outdir + '/eval_' + str(val_rounds) + 'iter_' + str(xFold) + 'fold'\n",
    "if os.path.isdir(evaldir):\n",
    "    shutil.rmtree(evaldir)\n",
    "os.mkdir(evaldir)"
   ]
  },
  {
   "cell_type": "code",
   "execution_count": 11,
   "metadata": {},
   "outputs": [],
   "source": [
    "%%capture\n",
    "# Running X-val iteratively\n",
    "df_eval = pd.DataFrame(columns = ['Iteration','R2','RMSE'])\n",
    "eval_mode = str(xFold) + '-fold'\n",
    "abs_ar = abs_ar0.copy()\n",
    "for i in range(0,val_rounds):\n",
    "    plt.figure(figsize=(10,10))\n",
    "    if i%5 == 0:\n",
    "        print('Round\\t{}'.format(i))\n",
    "    df2 = df1.copy()\n",
    "    kf = KFold(n_splits=xFold, shuffle=True)\n",
    "    x_fold = 0\n",
    "    for train_index, test_index in kf.split(patient_ar):\n",
    "        patient_train, patient_test, titer_train, titer_test, abs_train, abs_test, abs_model = Define_sets(patient_ar, titer_ar, abs_ar, train_index, test_index)\n",
    "        min_titer_local = np.min(titer_train)\n",
    "        max_titer_local = np.max(titer_train)\n",
    "        popt = fit_function_to_data(sigmoid_log_concentration, titer_train, abs_train)\n",
    "        df2 = Add_predicted_to_df(patient_test, abs_test, min_titer_local, max_titer_local, df2,*popt)\n",
    "    x_obs, x_pred = extract_obs_pred(df2)\n",
    "    r2, rmse = evaluate_prediction(x_obs, x_pred)\n",
    "    dftemp = pd.DataFrame({'Iteration':[i],'R2':[r2],'RMSE':[rmse]})\n",
    "    df_eval = df_eval.append(dftemp, ignore_index=True)\n",
    "    df2.to_excel(evaldir + '/' + 'iter_' + str(i) + '_' + eval_mode + '_predictions.xlsx')\n",
    "    g=sns.lmplot(x='Log10_Titer', y=\"Pred_Log10_Titer\", data=df2, height=8, x_jitter=.0, ci=95, scatter_kws={\"s\": 100})\n",
    "    plt.suptitle('Observed Vs Predicted: Iteration ' + str(i) + ' (' + eval_mode + ')', fontsize=15)\n",
    "    plt.xlabel('Observed Log10 Ab titers', fontsize=15)\n",
    "    plt.ylabel('Predicted Log10 Ab titers', fontsize=15)\n",
    "    plt.text(5, 4, 'R^2: {:.2f}'.format(r2), fontsize=10)\n",
    "    plt.savefig(evaldir + '/' + 'iter_' + str(i) + '_' + eval_mode + '_Observed_Vs_Predicted.pdf',dpi=300)\n",
    "df_eval.to_excel(evaldir + '/' + 'summary.xlsx')"
   ]
  },
  {
   "cell_type": "code",
   "execution_count": 12,
   "metadata": {},
   "outputs": [],
   "source": [
    "%%capture\n",
    "# Plot histogram of R^2\n",
    "plt.figure(figsize=(10,10))\n",
    "ar = df_eval['R2'].to_numpy()\n",
    "plt.figure(figsize=(10,10))\n",
    "plt.hist(ar, density=True)\n",
    "plt.xlabel('R^2', fontsize=15)\n",
    "plt.ylabel('Counts (%)', fontsize=15)\n",
    "plt.title('Histogram of R^2', fontsize=15)\n",
    "plt.grid(axis='y')\n",
    "plt.savefig(evaldir + '/histogram.pdf',dpi=300)"
   ]
  },
  {
   "cell_type": "code",
   "execution_count": null,
   "metadata": {},
   "outputs": [],
   "source": []
  },
  {
   "cell_type": "code",
   "execution_count": null,
   "metadata": {},
   "outputs": [],
   "source": []
  }
 ],
 "metadata": {
  "kernelspec": {
   "display_name": "Python 3",
   "language": "python",
   "name": "python3"
  },
  "language_info": {
   "codemirror_mode": {
    "name": "ipython",
    "version": 3
   },
   "file_extension": ".py",
   "mimetype": "text/x-python",
   "name": "python",
   "nbconvert_exporter": "python",
   "pygments_lexer": "ipython3",
   "version": "3.7.6"
  }
 },
 "nbformat": 4,
 "nbformat_minor": 4
}
